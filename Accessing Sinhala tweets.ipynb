{
 "cells": [
  {
   "cell_type": "code",
   "execution_count": 1,
   "id": "9d60fc0d",
   "metadata": {},
   "outputs": [
    {
     "ename": "ModuleNotFoundError",
     "evalue": "No module named 'tweepy'",
     "output_type": "error",
     "traceback": [
      "\u001b[1;31m---------------------------------------------------------------------------\u001b[0m",
      "\u001b[1;31mModuleNotFoundError\u001b[0m                       Traceback (most recent call last)",
      "\u001b[1;32m<ipython-input-1-f5e4f2180e08>\u001b[0m in \u001b[0;36m<module>\u001b[1;34m\u001b[0m\n\u001b[1;32m----> 1\u001b[1;33m \u001b[1;32mimport\u001b[0m \u001b[0mtweepy\u001b[0m\u001b[1;33m\u001b[0m\u001b[0m\n\u001b[0m",
      "\u001b[1;31mModuleNotFoundError\u001b[0m: No module named 'tweepy'"
     ]
    }
   ],
   "source": [
    "import tweepy"
   ]
  },
  {
   "cell_type": "code",
   "execution_count": 2,
   "id": "e044d4d3",
   "metadata": {},
   "outputs": [
    {
     "name": "stderr",
     "output_type": "stream",
     "text": [
      "WARNING: Skipping tweepy as it is not installed.\n"
     ]
    }
   ],
   "source": [
    "!pip uninstall tweepy"
   ]
  },
  {
   "cell_type": "code",
   "execution_count": 3,
   "id": "70e90ca5",
   "metadata": {},
   "outputs": [
    {
     "name": "stdout",
     "output_type": "stream",
     "text": [
      "Collecting tweepy"
     ]
    },
    {
     "name": "stderr",
     "output_type": "stream",
     "text": [
      "WARNING: You are using pip version 21.1.1; however, version 21.1.3 is available.\n",
      "You should consider upgrading via the 'c:\\users\\chandima samarakoon\\appdata\\local\\programs\\python\\python37\\python.exe -m pip install --upgrade pip' command.\n"
     ]
    },
    {
     "name": "stdout",
     "output_type": "stream",
     "text": [
      "\n",
      "  Using cached tweepy-3.10.0-py2.py3-none-any.whl (30 kB)\n",
      "Requirement already satisfied: requests[socks]>=2.11.1 in c:\\users\\chandima samarakoon\\appdata\\local\\programs\\python\\python37\\lib\\site-packages (from tweepy) (2.25.1)\n",
      "Collecting requests-oauthlib>=0.7.0\n",
      "  Using cached requests_oauthlib-1.3.0-py2.py3-none-any.whl (23 kB)\n",
      "Requirement already satisfied: six>=1.10.0 in c:\\users\\chandima samarakoon\\appdata\\local\\programs\\python\\python37\\lib\\site-packages (from tweepy) (1.15.0)\n",
      "Collecting oauthlib>=3.0.0\n",
      "  Using cached oauthlib-3.1.1-py2.py3-none-any.whl (146 kB)\n",
      "Requirement already satisfied: urllib3<1.27,>=1.21.1 in c:\\users\\chandima samarakoon\\appdata\\local\\programs\\python\\python37\\lib\\site-packages (from requests[socks]>=2.11.1->tweepy) (1.26.4)\n",
      "Requirement already satisfied: certifi>=2017.4.17 in c:\\users\\chandima samarakoon\\appdata\\local\\programs\\python\\python37\\lib\\site-packages (from requests[socks]>=2.11.1->tweepy) (2020.12.5)\n",
      "Requirement already satisfied: chardet<5,>=3.0.2 in c:\\users\\chandima samarakoon\\appdata\\local\\programs\\python\\python37\\lib\\site-packages (from requests[socks]>=2.11.1->tweepy) (4.0.0)\n",
      "Requirement already satisfied: idna<3,>=2.5 in c:\\users\\chandima samarakoon\\appdata\\local\\programs\\python\\python37\\lib\\site-packages (from requests[socks]>=2.11.1->tweepy) (2.10)\n",
      "Collecting PySocks!=1.5.7,>=1.5.6\n",
      "  Using cached PySocks-1.7.1-py3-none-any.whl (16 kB)\n",
      "Installing collected packages: PySocks, oauthlib, requests-oauthlib, tweepy\n",
      "Successfully installed PySocks-1.7.1 oauthlib-3.1.1 requests-oauthlib-1.3.0 tweepy-3.10.0\n"
     ]
    }
   ],
   "source": [
    "!pip install tweepy"
   ]
  },
  {
   "cell_type": "code",
   "execution_count": 4,
   "id": "1b77a5f0",
   "metadata": {},
   "outputs": [
    {
     "name": "stdout",
     "output_type": "stream",
     "text": [
      "Requirement already satisfied: pip in c:\\users\\chandima samarakoon\\appdata\\local\\programs\\python\\python37\\lib\\site-packages (21.1.1)\n",
      "Collecting pip\n",
      "  Downloading pip-21.1.3-py3-none-any.whl (1.5 MB)\n",
      "Installing collected packages: pip\n",
      "  Attempting uninstall: pip\n",
      "    Found existing installation: pip 21.1.1\n",
      "    Uninstalling pip-21.1.1:\n",
      "      Successfully uninstalled pip-21.1.1\n"
     ]
    },
    {
     "name": "stderr",
     "output_type": "stream",
     "text": [
      "ERROR: Could not install packages due to an OSError: [WinError 5] Access is denied: 'C:\\\\Users\\\\CHANDI~1\\\\AppData\\\\Local\\\\Temp\\\\pip-uninstall-j91eg92g\\\\pip.exe'\n",
      "Consider using the `--user` option or check the permissions.\n",
      "\n"
     ]
    }
   ],
   "source": [
    "!pip install --upgrade pip"
   ]
  },
  {
   "cell_type": "code",
   "execution_count": 5,
   "id": "dc885166",
   "metadata": {},
   "outputs": [
    {
     "name": "stdout",
     "output_type": "stream",
     "text": [
      "Requirement already satisfied: pip in c:\\users\\chandima samarakoon\\appdata\\local\\programs\\python\\python37\\lib\\site-packages (21.1.3)\n"
     ]
    },
    {
     "name": "stderr",
     "output_type": "stream",
     "text": [
      "WARNING: Retrying (Retry(total=4, connect=None, read=None, redirect=None, status=None)) after connection broken by 'NewConnectionError('<pip._vendor.urllib3.connection.HTTPSConnection object at 0x0000014974534438>: Failed to establish a new connection: [Errno 11001] getaddrinfo failed')': /simple/pip/\n",
      "WARNING: Retrying (Retry(total=3, connect=None, read=None, redirect=None, status=None)) after connection broken by 'NewConnectionError('<pip._vendor.urllib3.connection.HTTPSConnection object at 0x0000014974534668>: Failed to establish a new connection: [Errno 11001] getaddrinfo failed')': /simple/pip/\n",
      "WARNING: Retrying (Retry(total=2, connect=None, read=None, redirect=None, status=None)) after connection broken by 'NewConnectionError('<pip._vendor.urllib3.connection.HTTPSConnection object at 0x00000149745532E8>: Failed to establish a new connection: [Errno 11001] getaddrinfo failed')': /simple/pip/\n",
      "WARNING: Retrying (Retry(total=1, connect=None, read=None, redirect=None, status=None)) after connection broken by 'NewConnectionError('<pip._vendor.urllib3.connection.HTTPSConnection object at 0x0000014974553390>: Failed to establish a new connection: [Errno 11001] getaddrinfo failed')': /simple/pip/\n",
      "WARNING: Retrying (Retry(total=0, connect=None, read=None, redirect=None, status=None)) after connection broken by 'NewConnectionError('<pip._vendor.urllib3.connection.HTTPSConnection object at 0x00000149745535C0>: Failed to establish a new connection: [Errno 11001] getaddrinfo failed')': /simple/pip/\n"
     ]
    }
   ],
   "source": [
    "!pip install --upgrade pip"
   ]
  },
  {
   "cell_type": "code",
   "execution_count": 6,
   "id": "77abd749",
   "metadata": {},
   "outputs": [
    {
     "name": "stdout",
     "output_type": "stream",
     "text": [
      "Requirement already satisfied: tweepy in c:\\users\\chandima samarakoon\\appdata\\local\\programs\\python\\python37\\lib\\site-packages (3.10.0)\n",
      "Requirement already satisfied: six>=1.10.0 in c:\\users\\chandima samarakoon\\appdata\\local\\programs\\python\\python37\\lib\\site-packages (from tweepy) (1.15.0)\n",
      "Requirement already satisfied: requests-oauthlib>=0.7.0 in c:\\users\\chandima samarakoon\\appdata\\local\\programs\\python\\python37\\lib\\site-packages (from tweepy) (1.3.0)\n",
      "Requirement already satisfied: requests[socks]>=2.11.1 in c:\\users\\chandima samarakoon\\appdata\\local\\programs\\python\\python37\\lib\\site-packages (from tweepy) (2.25.1)\n",
      "Requirement already satisfied: oauthlib>=3.0.0 in c:\\users\\chandima samarakoon\\appdata\\local\\programs\\python\\python37\\lib\\site-packages (from requests-oauthlib>=0.7.0->tweepy) (3.1.1)\n",
      "Requirement already satisfied: urllib3<1.27,>=1.21.1 in c:\\users\\chandima samarakoon\\appdata\\local\\programs\\python\\python37\\lib\\site-packages (from requests[socks]>=2.11.1->tweepy) (1.26.4)\n",
      "Requirement already satisfied: chardet<5,>=3.0.2 in c:\\users\\chandima samarakoon\\appdata\\local\\programs\\python\\python37\\lib\\site-packages (from requests[socks]>=2.11.1->tweepy) (4.0.0)\n",
      "Requirement already satisfied: idna<3,>=2.5 in c:\\users\\chandima samarakoon\\appdata\\local\\programs\\python\\python37\\lib\\site-packages (from requests[socks]>=2.11.1->tweepy) (2.10)\n",
      "Requirement already satisfied: certifi>=2017.4.17 in c:\\users\\chandima samarakoon\\appdata\\local\\programs\\python\\python37\\lib\\site-packages (from requests[socks]>=2.11.1->tweepy) (2020.12.5)\n",
      "Requirement already satisfied: PySocks!=1.5.7,>=1.5.6 in c:\\users\\chandima samarakoon\\appdata\\local\\programs\\python\\python37\\lib\\site-packages (from requests[socks]>=2.11.1->tweepy) (1.7.1)\n"
     ]
    }
   ],
   "source": [
    "!pip install tweepy"
   ]
  },
  {
   "cell_type": "code",
   "execution_count": 7,
   "id": "73974c34",
   "metadata": {},
   "outputs": [],
   "source": [
    "import tweepy"
   ]
  },
  {
   "cell_type": "code",
   "execution_count": 8,
   "id": "7766da90",
   "metadata": {},
   "outputs": [],
   "source": [
    "consumer_key = 'WIbMrSSW0BUeUx7aY1fcdaS4h'\n",
    "consumer_secret='mRUi2zN6dMIjIJF5XicHPAGMSN3kKjxWlVv8NrOoCmzteU3T4S'\n",
    "access_token = '1349380034700533764-mPojYykP7Cmk5SeKfJbN8O1RG7hVFx'\n",
    "access_secret = 'FK1p1wqbzP8Hkj3ZsnOkPXs47lum9QTT6tAAyCiyTwmUt'"
   ]
  },
  {
   "cell_type": "code",
   "execution_count": 10,
   "id": "65769b96",
   "metadata": {},
   "outputs": [],
   "source": [
    "auth = tweepy.OAuthHandler(consumer_key, consumer_secret)\n",
    "auth.set_access_token(access_token, access_secret)\n",
    "api = tweepy.API(auth)"
   ]
  },
  {
   "cell_type": "code",
   "execution_count": 11,
   "id": "285484c4",
   "metadata": {},
   "outputs": [
    {
     "name": "stderr",
     "output_type": "stream",
     "text": [
      "ERROR: Could not find a version that satisfies the requirement pands (from versions: none)\n",
      "ERROR: No matching distribution found for pands\n"
     ]
    }
   ],
   "source": [
    "!pip install pands"
   ]
  },
  {
   "cell_type": "code",
   "execution_count": 21,
   "id": "e03a4a4b",
   "metadata": {},
   "outputs": [],
   "source": [
    "# coding=utf-8\n",
    "import tweepy\n",
    "import pandas as pd\n",
    "import csv  # Import csv"
   ]
  },
  {
   "cell_type": "code",
   "execution_count": 36,
   "id": "b172152c",
   "metadata": {},
   "outputs": [
    {
     "name": "stdout",
     "output_type": "stream",
     "text": [
      "['ID']\n",
      "['ID', '1413167460992225283']\n",
      "['ID', '1413167460992225283', '1412410653629952001']\n",
      "['ID', '1413167460992225283', '1412410653629952001', '1412286489191399426']\n",
      "['ID', '1413167460992225283', '1412410653629952001', '1412286489191399426', '1411379850011684866']\n",
      "['ID', '1413167460992225283', '1412410653629952001', '1412286489191399426', '1411379850011684866', '1414130856025726986']\n",
      "['ID', '1413167460992225283', '1412410653629952001', '1412286489191399426', '1411379850011684866', '1414130856025726986', '1413797912149069825']\n",
      "['ID', '1413167460992225283', '1412410653629952001', '1412286489191399426', '1411379850011684866', '1414130856025726986', '1413797912149069825', '1413792053859913731']\n",
      "['ID', '1413167460992225283', '1412410653629952001', '1412286489191399426', '1411379850011684866', '1414130856025726986', '1413797912149069825', '1413792053859913731', '1413764362049769472']\n",
      "['ID', '1413167460992225283', '1412410653629952001', '1412286489191399426', '1411379850011684866', '1414130856025726986', '1413797912149069825', '1413792053859913731', '1413764362049769472', '1413475333827932161']\n",
      "['ID', '1413167460992225283', '1412410653629952001', '1412286489191399426', '1411379850011684866', '1414130856025726986', '1413797912149069825', '1413792053859913731', '1413764362049769472', '1413475333827932161', '1413093813631873028']\n",
      "['ID', '1413167460992225283', '1412410653629952001', '1412286489191399426', '1411379850011684866', '1414130856025726986', '1413797912149069825', '1413792053859913731', '1413764362049769472', '1413475333827932161', '1413093813631873028', '1412844390079340545']\n",
      "['ID', '1413167460992225283', '1412410653629952001', '1412286489191399426', '1411379850011684866', '1414130856025726986', '1413797912149069825', '1413792053859913731', '1413764362049769472', '1413475333827932161', '1413093813631873028', '1412844390079340545', '1412636645124235267']\n",
      "['ID', '1413167460992225283', '1412410653629952001', '1412286489191399426', '1411379850011684866', '1414130856025726986', '1413797912149069825', '1413792053859913731', '1413764362049769472', '1413475333827932161', '1413093813631873028', '1412844390079340545', '1412636645124235267', '1412283673185976322']\n",
      "['ID', '1413167460992225283', '1412410653629952001', '1412286489191399426', '1411379850011684866', '1414130856025726986', '1413797912149069825', '1413792053859913731', '1413764362049769472', '1413475333827932161', '1413093813631873028', '1412844390079340545', '1412636645124235267', '1412283673185976322', '1412266135958007809']\n",
      "['ID', '1413167460992225283', '1412410653629952001', '1412286489191399426', '1411379850011684866', '1414130856025726986', '1413797912149069825', '1413792053859913731', '1413764362049769472', '1413475333827932161', '1413093813631873028', '1412844390079340545', '1412636645124235267', '1412283673185976322', '1412266135958007809', '1412097906056773635']\n",
      "['ID', '1413167460992225283', '1412410653629952001', '1412286489191399426', '1411379850011684866', '1414130856025726986', '1413797912149069825', '1413792053859913731', '1413764362049769472', '1413475333827932161', '1413093813631873028', '1412844390079340545', '1412636645124235267', '1412283673185976322', '1412266135958007809', '1412097906056773635', '1411981064176873475']\n",
      "['ID', '1413167460992225283', '1412410653629952001', '1412286489191399426', '1411379850011684866', '1414130856025726986', '1413797912149069825', '1413792053859913731', '1413764362049769472', '1413475333827932161', '1413093813631873028', '1412844390079340545', '1412636645124235267', '1412283673185976322', '1412266135958007809', '1412097906056773635', '1411981064176873475', '1411437521146417160']\n",
      "['ID', '1413167460992225283', '1412410653629952001', '1412286489191399426', '1411379850011684866', '1414130856025726986', '1413797912149069825', '1413792053859913731', '1413764362049769472', '1413475333827932161', '1413093813631873028', '1412844390079340545', '1412636645124235267', '1412283673185976322', '1412266135958007809', '1412097906056773635', '1411981064176873475', '1411437521146417160', '1411316562187878402']\n",
      "['ID', '1413167460992225283', '1412410653629952001', '1412286489191399426', '1411379850011684866', '1414130856025726986', '1413797912149069825', '1413792053859913731', '1413764362049769472', '1413475333827932161', '1413093813631873028', '1412844390079340545', '1412636645124235267', '1412283673185976322', '1412266135958007809', '1412097906056773635', '1411981064176873475', '1411437521146417160', '1411316562187878402', '1411241809586569218']\n",
      "Empty DataFrame\n",
      "Columns: [ID, FULL TEXT, CREATED AT]\n",
      "Index: []\n"
     ]
    }
   ],
   "source": [
    "tweetsIds = []  # the list containing the tweet ids\n",
    "tweets = []  # the list containing the tweets\n",
    "\n",
    "search_words = \"#සෞඛ්‍යය\"\n",
    "# opening the csv file  and getting the twitter id coloumns\n",
    "csvfile = open('get_tweets.csv', encoding=\"utf-8\")\n",
    "\n",
    "readCSV = csv.reader(csvfile, delimiter=',')\n",
    "for row in readCSV:\n",
    "    if (row and row[1] != ''):\n",
    "        tweetsIds.append(row[1])\n",
    "\n",
    "        print(tweetsIds)\n",
    "\n",
    "auth = tweepy.OAuthHandler(consumer_key, consumer_secret)\n",
    "auth.set_access_token(access_token, access_secret)\n",
    "api = tweepy.API(auth)\n",
    "# create a dataframe  to append tweets information\n",
    "tweets_df = pd.DataFrame(columns=['ID', 'FULL TEXT', 'CREATED AT'])\n",
    "\n",
    "for tweet in tweepy.Cursor(api.search,\n",
    "                           q=search_words,\n",
    "                 lang=\"si\", tweet_mode='extended').items():\n",
    "\n",
    "    if (tweet.id_str not in tweetsIds) and ('RT @' not in           tweet.full_text) and (not tweet.retweeted):\n",
    "        # create a dataframe from the existing information\n",
    "        df = pd.DataFrame([[ tweet.id_str, tweet.full_text, tweet.created_at]],\n",
    "                          columns=['ID', 'FULL TEXT', 'CREATED AT'])\n",
    "\n",
    "        # append it to the tweets_df\n",
    "        tweets_df =  tweets_df.append(df , ignore_index=True)\n",
    "\n",
    "\n",
    "print ( tweets_df)\n",
    "with open('get_tweets.csv', 'a', encoding=\"utf-8\") as f:\n",
    "    tweets_df.to_csv(f, header=f.tell() == 0)"
   ]
  },
  {
   "cell_type": "code",
   "execution_count": null,
   "id": "d629e942",
   "metadata": {},
   "outputs": [],
   "source": []
  },
  {
   "cell_type": "code",
   "execution_count": null,
   "id": "1ddd1e97",
   "metadata": {},
   "outputs": [],
   "source": []
  }
 ],
 "metadata": {
  "kernelspec": {
   "display_name": "Python 3",
   "language": "python",
   "name": "python3"
  },
  "language_info": {
   "codemirror_mode": {
    "name": "ipython",
    "version": 3
   },
   "file_extension": ".py",
   "mimetype": "text/x-python",
   "name": "python",
   "nbconvert_exporter": "python",
   "pygments_lexer": "ipython3",
   "version": "3.7.0"
  }
 },
 "nbformat": 4,
 "nbformat_minor": 5
}
